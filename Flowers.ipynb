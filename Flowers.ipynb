{
  "nbformat": 4,
  "nbformat_minor": 0,
  "metadata": {
    "colab": {
      "provenance": [],
      "gpuType": "T4"
    },
    "kernelspec": {
      "name": "python3",
      "display_name": "Python 3"
    },
    "language_info": {
      "name": "python"
    },
    "accelerator": "GPU"
  },
  "cells": [
    {
      "cell_type": "code",
      "execution_count": null,
      "metadata": {
        "colab": {
          "base_uri": "https://localhost:8080/"
        },
        "id": "fWN22jHe-_97",
        "outputId": "57196288-581e-4956-eb9c-6bd69225ec2f"
      },
      "outputs": [
        {
          "output_type": "stream",
          "name": "stdout",
          "text": [
            "Found GPU at: /device:GPU:0\n"
          ]
        }
      ],
      "source": [
        "import tensorflow as tf\n",
        "device_name = tf.test.gpu_device_name()\n",
        "if device_name != '/device:GPU:0':\n",
        "  raise SystemError('GPU device not found')\n",
        "print('Found GPU at: {}'.format(device_name))"
      ]
    },
    {
      "cell_type": "code",
      "source": [
        "from google.colab import drive\n",
        "drive.mount(\"/content/drive\", force_remount=True)\n",
        "!ls drive/MyDrive/Flower"
      ],
      "metadata": {
        "colab": {
          "base_uri": "https://localhost:8080/"
        },
        "id": "vqBv_p8Y_Crc",
        "outputId": "fbaa09fb-c822-45b6-be62-5cef75fb8d65"
      },
      "execution_count": null,
      "outputs": [
        {
          "output_type": "stream",
          "name": "stdout",
          "text": [
            "Mounted at /content/drive\n",
            "train  val\n"
          ]
        }
      ]
    },
    {
      "cell_type": "code",
      "source": [
        "!pip install chart-studio"
      ],
      "metadata": {
        "colab": {
          "base_uri": "https://localhost:8080/"
        },
        "id": "2mb1Yh2lQlFd",
        "outputId": "dda6f2d0-5521-4193-a140-656e48fd2019"
      },
      "execution_count": null,
      "outputs": [
        {
          "output_type": "stream",
          "name": "stdout",
          "text": [
            "Collecting chart-studio\n",
            "  Downloading chart_studio-1.1.0-py3-none-any.whl (64 kB)\n",
            "\u001b[?25l     \u001b[90m━━━━━━━━━━━━━━━━━━━━━━━━━━━━━━━━━━━━━━━━\u001b[0m \u001b[32m0.0/64.4 kB\u001b[0m \u001b[31m?\u001b[0m eta \u001b[36m-:--:--\u001b[0m\r\u001b[2K     \u001b[90m━━━━━━━━━━━━━━━━━━━━━━━━━━━━━━━━━━━━━━━━\u001b[0m \u001b[32m64.4/64.4 kB\u001b[0m \u001b[31m2.0 MB/s\u001b[0m eta \u001b[36m0:00:00\u001b[0m\n",
            "\u001b[?25hRequirement already satisfied: plotly in /usr/local/lib/python3.10/dist-packages (from chart-studio) (5.15.0)\n",
            "Requirement already satisfied: requests in /usr/local/lib/python3.10/dist-packages (from chart-studio) (2.31.0)\n",
            "Collecting retrying>=1.3.3 (from chart-studio)\n",
            "  Downloading retrying-1.3.4-py3-none-any.whl (11 kB)\n",
            "Requirement already satisfied: six in /usr/local/lib/python3.10/dist-packages (from chart-studio) (1.16.0)\n",
            "Requirement already satisfied: tenacity>=6.2.0 in /usr/local/lib/python3.10/dist-packages (from plotly->chart-studio) (8.2.3)\n",
            "Requirement already satisfied: packaging in /usr/local/lib/python3.10/dist-packages (from plotly->chart-studio) (23.2)\n",
            "Requirement already satisfied: charset-normalizer<4,>=2 in /usr/local/lib/python3.10/dist-packages (from requests->chart-studio) (3.3.2)\n",
            "Requirement already satisfied: idna<4,>=2.5 in /usr/local/lib/python3.10/dist-packages (from requests->chart-studio) (3.4)\n",
            "Requirement already satisfied: urllib3<3,>=1.21.1 in /usr/local/lib/python3.10/dist-packages (from requests->chart-studio) (2.0.7)\n",
            "Requirement already satisfied: certifi>=2017.4.17 in /usr/local/lib/python3.10/dist-packages (from requests->chart-studio) (2023.7.22)\n",
            "Installing collected packages: retrying, chart-studio\n",
            "Successfully installed chart-studio-1.1.0 retrying-1.3.4\n"
          ]
        }
      ]
    },
    {
      "cell_type": "code",
      "source": [
        "import numpy as np # linear algebra\n",
        "import pandas as pd # data processing, CSV file I/O (e.g. pd.read_csv)\n",
        "import matplotlib.pyplot as plt\n",
        "\n",
        "import chart_studio.plotly as py\n",
        "import plotly.graph_objs as go\n",
        "from plotly.offline import init_notebook_mode, iplot # plotly offline mode\n",
        "init_notebook_mode(connected=True)\n",
        "\n",
        "import seaborn as sns\n",
        "import cv2\n",
        "\n",
        "import keras\n",
        "from keras.models import Sequential\n",
        "from keras.layers import Dense, Activation, Dropout, Flatten\n",
        "from keras.layers import Conv2D\n",
        "from keras.layers import MaxPooling2D,MaxPool2D\n",
        "from tensorflow.keras.layers import BatchNormalization\n",
        "\n",
        "from keras.optimizers import Adam\n",
        "from keras.preprocessing.image import ImageDataGenerator\n",
        "import os\n",
        "print(os.listdir(\"/content/drive/MyDrive/Flower\"))"
      ],
      "metadata": {
        "colab": {
          "base_uri": "https://localhost:8080/",
          "height": 34
        },
        "id": "HiljEDsLQIFN",
        "outputId": "8b3684fc-35c5-4aa5-bdb4-611cc7247b2a"
      },
      "execution_count": null,
      "outputs": [
        {
          "output_type": "display_data",
          "data": {
            "text/html": [
              "        <script type=\"text/javascript\">\n",
              "        window.PlotlyConfig = {MathJaxConfig: 'local'};\n",
              "        if (window.MathJax && window.MathJax.Hub && window.MathJax.Hub.Config) {window.MathJax.Hub.Config({SVG: {font: \"STIX-Web\"}});}\n",
              "        if (typeof require !== 'undefined') {\n",
              "        require.undef(\"plotly\");\n",
              "        requirejs.config({\n",
              "            paths: {\n",
              "                'plotly': ['https://cdn.plot.ly/plotly-2.24.1.min']\n",
              "            }\n",
              "        });\n",
              "        require(['plotly'], function(Plotly) {\n",
              "            window._Plotly = Plotly;\n",
              "        });\n",
              "        }\n",
              "        </script>\n",
              "        "
            ]
          },
          "metadata": {}
        },
        {
          "output_type": "stream",
          "name": "stdout",
          "text": [
            "['val', 'train']\n"
          ]
        }
      ]
    },
    {
      "cell_type": "code",
      "source": [
        "img = plt.imread(\"/content/drive/MyDrive/Flower/train/daisy/154332674_453cea64f4.jpg\")\n",
        "img = cv2.resize(img,(124,124))\n",
        "plt.imshow(img)\n",
        "plt.axis(\"on\")\n",
        "plt.show()"
      ],
      "metadata": {
        "id": "K4uIWGPxQ4d9"
      },
      "execution_count": null,
      "outputs": []
    },
    {
      "cell_type": "code",
      "source": [
        "x_ = list()\n",
        "y = list()\n",
        "IMG_SIZE = 128\n",
        "for i in os.listdir(\"/content/drive/MyDrive/Flower/train/daisy\"):\n",
        "    try:\n",
        "        path = \"/content/drive/MyDrive/Flower/train/daisy/\"+i\n",
        "        img = plt.imread(path)\n",
        "        img = cv2.resize(img,(IMG_SIZE,IMG_SIZE))\n",
        "        x_.append(img)\n",
        "        y.append(0)\n",
        "    except:\n",
        "        None\n",
        "for i in os.listdir(\"/content/drive/MyDrive/Flower/train/dandelion\"):\n",
        "    try:\n",
        "        path = \"/content/drive/MyDrive/Flower/train/dandelion/\"+i\n",
        "        img = plt.imread(path)\n",
        "        img = cv2.resize(img,(IMG_SIZE,IMG_SIZE))\n",
        "        x_.append(img)\n",
        "        y.append(1)\n",
        "    except:\n",
        "        None\n",
        "for i in os.listdir(\"/content/drive/MyDrive/Flower/train/rose\"):\n",
        "    try:\n",
        "        path = \"//content/drive/MyDrive/Flower/train/rose/\"+i\n",
        "        img = plt.imread(path)\n",
        "        img = cv2.resize(img,(IMG_SIZE,IMG_SIZE))\n",
        "        x_.append(img)\n",
        "        y.append(2)\n",
        "    except:\n",
        "        None\n",
        "for i in os.listdir(\"/content/drive/MyDrive/Flower/train/sunflower\"):\n",
        "    try:\n",
        "        path = \"/content/drive/MyDrive/Flower/train/sunflower/\"+i\n",
        "        img = plt.imread(path)\n",
        "        img = cv2.resize(img,(IMG_SIZE,IMG_SIZE))\n",
        "        x_.append(img)\n",
        "        y.append(3)\n",
        "    except:\n",
        "        None\n",
        "for i in os.listdir(\"/content/drive/MyDrive/Flower/train/tulip\"):\n",
        "    try:\n",
        "        path = \"/content/drive/MyDrive/Flower/train/tulip/\"+i\n",
        "        img = plt.imread(path)\n",
        "        img = cv2.resize(img,(IMG_SIZE,IMG_SIZE))\n",
        "        x_.append(img)\n",
        "        y.append(4)\n",
        "    except:\n",
        "        None\n",
        "x_ = np.array(x_)"
      ],
      "metadata": {
        "id": "yZkuAnsCRGtP"
      },
      "execution_count": null,
      "outputs": []
    },
    {
      "cell_type": "code",
      "source": [
        "#plottin one of all flower types in data\n",
        "plt.figure(figsize = (20,20))\n",
        "for i in range(5):\n",
        "    img = x_[950*i]\n",
        "    plt.subplot(1,5,i+1)\n",
        "    plt.imshow(img)\n",
        "    plt.axis(\"off\")\n",
        "    plt.title(y[950*i])"
      ],
      "metadata": {
        "id": "-KB_HRWeRdrM"
      },
      "execution_count": null,
      "outputs": []
    },
    {
      "cell_type": "code",
      "source": [
        "!pip install np_utils"
      ],
      "metadata": {
        "colab": {
          "base_uri": "https://localhost:8080/"
        },
        "id": "SlZTpvd9R2Pk",
        "outputId": "e923df32-75ed-4d2f-fb81-82a46ea83bf7"
      },
      "execution_count": null,
      "outputs": [
        {
          "output_type": "stream",
          "name": "stdout",
          "text": [
            "Collecting np_utils\n",
            "  Downloading np_utils-0.6.0.tar.gz (61 kB)\n",
            "\u001b[2K     \u001b[90m━━━━━━━━━━━━━━━━━━━━━━━━━━━━━━━━━━━━━━━━\u001b[0m \u001b[32m62.0/62.0 kB\u001b[0m \u001b[31m1.0 MB/s\u001b[0m eta \u001b[36m0:00:00\u001b[0m\n",
            "\u001b[?25h  Preparing metadata (setup.py) ... \u001b[?25l\u001b[?25hdone\n",
            "Requirement already satisfied: numpy>=1.0 in /usr/local/lib/python3.10/dist-packages (from np_utils) (1.23.5)\n",
            "Building wheels for collected packages: np_utils\n",
            "  Building wheel for np_utils (setup.py) ... \u001b[?25l\u001b[?25hdone\n",
            "  Created wheel for np_utils: filename=np_utils-0.6.0-py3-none-any.whl size=56439 sha256=78ef9308163a3b70d858263916be6e3ba80ece05c147206da040f26ab2354426\n",
            "  Stored in directory: /root/.cache/pip/wheels/b6/c7/50/2307607f44366dd021209f660045f8d51cb976514d30be7cc7\n",
            "Successfully built np_utils\n",
            "Installing collected packages: np_utils\n",
            "Successfully installed np_utils-0.6.0\n"
          ]
        }
      ]
    },
    {
      "cell_type": "code",
      "source": [
        "import keras\n",
        "from tensorflow.keras.utils import to_categorical\n",
        "y = to_categorical(y,num_classes = 5)"
      ],
      "metadata": {
        "id": "ASFFTHMdRpht"
      },
      "execution_count": null,
      "outputs": []
    },
    {
      "cell_type": "code",
      "source": [
        "# test split\n",
        "from sklearn.model_selection import train_test_split\n",
        "x_train,x_test,y_train,y_test = train_test_split(x_,y,test_size = 0.15,random_state = 42)"
      ],
      "metadata": {
        "id": "sSIzaKlERs5H"
      },
      "execution_count": null,
      "outputs": []
    },
    {
      "cell_type": "code",
      "source": [
        "# validation and trains split\n",
        "x_train,x_val,y_train,y_val = train_test_split(x_train,y_train,test_size = 0.15,random_state = 42)"
      ],
      "metadata": {
        "id": "XvwhubOfSLf8"
      },
      "execution_count": null,
      "outputs": []
    },
    {
      "cell_type": "code",
      "source": [
        "plt.figure(figsize = (20,20))\n",
        "for i in range(5):\n",
        "    img = x_train[600*i]\n",
        "    plt.subplot(1,5,i+1)\n",
        "    plt.imshow(img)\n",
        "    plt.axis(\"on\")\n",
        "    plt.title(y_train[600*i])\n",
        "plt.show()"
      ],
      "metadata": {
        "id": "PAJl6hSHSQBP"
      },
      "execution_count": null,
      "outputs": []
    },
    {
      "cell_type": "code",
      "source": [
        "model = Sequential()\n",
        "# 1st Convolutional Layer\n",
        "model.add(Conv2D(filters=64, kernel_size=(3,3),padding=\"Same\",activation=\"relu\" , input_shape = (IMG_SIZE,IMG_SIZE,3)))\n",
        "model.add(MaxPool2D(pool_size=(2,2),strides=(2,2)))\n",
        "model.add(BatchNormalization())\n",
        "model.add(Dropout(0.2))\n",
        "# 2nd Convolutional Layer\n",
        "model.add(Conv2D(filters=128, kernel_size=(3,3),padding=\"Same\",activation=\"relu\"))\n",
        "model.add(MaxPool2D(pool_size=(2,2),strides=(2,2)))\n",
        "model.add(BatchNormalization())\n",
        "model.add(Dropout(0.3))\n",
        "# 3rd Convolutional Layer\n",
        "model.add(Conv2D(filters=128, kernel_size=(3,3),padding=\"Same\",activation=\"relu\"))\n",
        "model.add(MaxPool2D(pool_size=(2,2),strides=(2,2)))\n",
        "model.add(BatchNormalization())\n",
        "model.add(Dropout(0.3))\n",
        "# 4th Convolutional Layer\n",
        "model.add(Conv2D(filters=256,kernel_size = (3,3),padding=\"Same\",activation=\"relu\"))\n",
        "model.add(MaxPool2D(pool_size=(2,2),strides=(2,2)))\n",
        "model.add(BatchNormalization())\n",
        "model.add(Dropout(0.2))\n",
        "# 5th Convolutional Layer\n",
        "model.add(Conv2D(filters=512,kernel_size = (3,3),padding=\"Same\",activation=\"relu\"))\n",
        "model.add(MaxPool2D(pool_size=(2,2),strides=(2,2)))\n",
        "model.add(BatchNormalization())\n",
        "model.add(Dropout(0.3))\n",
        "\n",
        "model.add(Flatten())\n",
        "# 1st Fully Connected Layer\n",
        "model.add(Dense(1024,activation=\"relu\"))\n",
        "model.add(Dropout(0.5))\n",
        "model.add(BatchNormalization())\n",
        "# Add output layer\n",
        "model.add(Dense(5,activation=\"softmax\"))\n",
        "\n",
        "model.summary() # print summary my model\n",
        "model.compile(loss='categorical_crossentropy', optimizer='adam',metrics=['accuracy']) #compile model"
      ],
      "metadata": {
        "colab": {
          "base_uri": "https://localhost:8080/"
        },
        "id": "iLLkuu_HSRe1",
        "outputId": "3dc309a7-9efc-4ced-824f-1e2d606f1db3"
      },
      "execution_count": null,
      "outputs": [
        {
          "output_type": "stream",
          "name": "stdout",
          "text": [
            "Model: \"sequential_1\"\n",
            "_________________________________________________________________\n",
            " Layer (type)                Output Shape              Param #   \n",
            "=================================================================\n",
            " conv2d_1 (Conv2D)           (None, 128, 128, 64)      1792      \n",
            "                                                                 \n",
            " max_pooling2d_1 (MaxPoolin  (None, 64, 64, 64)        0         \n",
            " g2D)                                                            \n",
            "                                                                 \n",
            " batch_normalization (Batch  (None, 64, 64, 64)        256       \n",
            " Normalization)                                                  \n",
            "                                                                 \n",
            " dropout (Dropout)           (None, 64, 64, 64)        0         \n",
            "                                                                 \n",
            " conv2d_2 (Conv2D)           (None, 64, 64, 128)       73856     \n",
            "                                                                 \n",
            " max_pooling2d_2 (MaxPoolin  (None, 32, 32, 128)       0         \n",
            " g2D)                                                            \n",
            "                                                                 \n",
            " batch_normalization_1 (Bat  (None, 32, 32, 128)       512       \n",
            " chNormalization)                                                \n",
            "                                                                 \n",
            " dropout_1 (Dropout)         (None, 32, 32, 128)       0         \n",
            "                                                                 \n",
            " conv2d_3 (Conv2D)           (None, 32, 32, 128)       147584    \n",
            "                                                                 \n",
            " max_pooling2d_3 (MaxPoolin  (None, 16, 16, 128)       0         \n",
            " g2D)                                                            \n",
            "                                                                 \n",
            " batch_normalization_2 (Bat  (None, 16, 16, 128)       512       \n",
            " chNormalization)                                                \n",
            "                                                                 \n",
            " dropout_2 (Dropout)         (None, 16, 16, 128)       0         \n",
            "                                                                 \n",
            " conv2d_4 (Conv2D)           (None, 16, 16, 256)       295168    \n",
            "                                                                 \n",
            " max_pooling2d_4 (MaxPoolin  (None, 8, 8, 256)         0         \n",
            " g2D)                                                            \n",
            "                                                                 \n",
            " batch_normalization_3 (Bat  (None, 8, 8, 256)         1024      \n",
            " chNormalization)                                                \n",
            "                                                                 \n",
            " dropout_3 (Dropout)         (None, 8, 8, 256)         0         \n",
            "                                                                 \n",
            " conv2d_5 (Conv2D)           (None, 8, 8, 512)         1180160   \n",
            "                                                                 \n",
            " max_pooling2d_5 (MaxPoolin  (None, 4, 4, 512)         0         \n",
            " g2D)                                                            \n",
            "                                                                 \n",
            " batch_normalization_4 (Bat  (None, 4, 4, 512)         2048      \n",
            " chNormalization)                                                \n",
            "                                                                 \n",
            " dropout_4 (Dropout)         (None, 4, 4, 512)         0         \n",
            "                                                                 \n",
            " flatten (Flatten)           (None, 8192)              0         \n",
            "                                                                 \n",
            " dense (Dense)               (None, 1024)              8389632   \n",
            "                                                                 \n",
            " dropout_5 (Dropout)         (None, 1024)              0         \n",
            "                                                                 \n",
            " batch_normalization_5 (Bat  (None, 1024)              4096      \n",
            " chNormalization)                                                \n",
            "                                                                 \n",
            " dense_1 (Dense)             (None, 5)                 5125      \n",
            "                                                                 \n",
            "=================================================================\n",
            "Total params: 10101765 (38.54 MB)\n",
            "Trainable params: 10097541 (38.52 MB)\n",
            "Non-trainable params: 4224 (16.50 KB)\n",
            "_________________________________________________________________\n"
          ]
        }
      ]
    },
    {
      "cell_type": "code",
      "source": [
        "model.compile(loss='categorical_crossentropy',\n",
        "              optimizer=Adam(lr=0.001),\n",
        "              metrics=['accuracy'])"
      ],
      "metadata": {
        "colab": {
          "base_uri": "https://localhost:8080/"
        },
        "id": "hAOosi6DTP2J",
        "outputId": "91b06e31-c4c3-4188-dfe9-e87927819f54"
      },
      "execution_count": null,
      "outputs": [
        {
          "output_type": "stream",
          "name": "stderr",
          "text": [
            "WARNING:absl:`lr` is deprecated in Keras optimizer, please use `learning_rate` or use the legacy optimizer, e.g.,tf.keras.optimizers.legacy.Adam.\n"
          ]
        }
      ]
    },
    {
      "cell_type": "code",
      "source": [
        "epoch = 80\n",
        "batch_size = 64"
      ],
      "metadata": {
        "id": "8ws22VlYTRN2"
      },
      "execution_count": null,
      "outputs": []
    },
    {
      "cell_type": "code",
      "source": [
        "datagen = ImageDataGenerator(\n",
        "    featurewise_center=False,  # set input mean to 0 over the dataset\n",
        "    samplewise_center=False,  # set each sample mean to 0\n",
        "    featurewise_std_normalization=False,  # divide inputs by std of the dataset\n",
        "    samplewise_std_normalization=False,  # divide each input by its std\n",
        "    rotation_range=60,  # randomly rotate images in the range (60, 0 to 180)\n",
        "    zoom_range = 0.1, # Randomly zoom image\n",
        "    width_shift_range=0.1,  # randomly shift images horizontally (fraction of total width)\n",
        "    height_shift_range=0.1,\n",
        "    shear_range=0.1,\n",
        "    fill_mode = \"reflect\"\n",
        "    )\n",
        "datagen.fit(x_train)"
      ],
      "metadata": {
        "id": "h2niPdW6TStO"
      },
      "execution_count": null,
      "outputs": []
    },
    {
      "cell_type": "code",
      "source": [
        "history = model.fit_generator(datagen.flow(x_train,y_train,batch_size=batch_size),\n",
        "                              epochs= epoch,validation_data=(x_val,y_val),\n",
        "                              steps_per_epoch=x_train.shape[0] // batch_size\n",
        "                              )"
      ],
      "metadata": {
        "colab": {
          "base_uri": "https://localhost:8080/"
        },
        "id": "cK_2o-sPTWsk",
        "outputId": "322c61dd-c58c-4cef-b552-41233e825a28"
      },
      "execution_count": null,
      "outputs": [
        {
          "output_type": "stream",
          "name": "stderr",
          "text": [
            "<ipython-input-35-722b7c266270>:1: UserWarning:\n",
            "\n",
            "`Model.fit_generator` is deprecated and will be removed in a future version. Please use `Model.fit`, which supports generators.\n",
            "\n"
          ]
        },
        {
          "output_type": "stream",
          "name": "stdout",
          "text": [
            "Epoch 1/80\n",
            "48/48 [==============================] - 38s 349ms/step - loss: 1.6924 - accuracy: 0.4322 - val_loss: 12.8088 - val_accuracy: 0.2250\n",
            "Epoch 2/80\n",
            "48/48 [==============================] - 16s 326ms/step - loss: 1.2401 - accuracy: 0.5449 - val_loss: 2.9225 - val_accuracy: 0.4864\n",
            "Epoch 3/80\n",
            "48/48 [==============================] - 18s 367ms/step - loss: 1.1171 - accuracy: 0.5783 - val_loss: 1.3124 - val_accuracy: 0.6207\n",
            "Epoch 4/80\n",
            "48/48 [==============================] - 15s 310ms/step - loss: 1.0222 - accuracy: 0.6130 - val_loss: 1.2755 - val_accuracy: 0.6007\n",
            "Epoch 5/80\n",
            "48/48 [==============================] - 17s 352ms/step - loss: 0.9566 - accuracy: 0.6415 - val_loss: 1.0389 - val_accuracy: 0.6025\n",
            "Epoch 6/80\n",
            "48/48 [==============================] - 16s 331ms/step - loss: 0.8913 - accuracy: 0.6579 - val_loss: 0.9076 - val_accuracy: 0.6897\n",
            "Epoch 7/80\n",
            "48/48 [==============================] - 16s 327ms/step - loss: 0.8589 - accuracy: 0.6709 - val_loss: 0.8594 - val_accuracy: 0.7042\n",
            "Epoch 8/80\n",
            "48/48 [==============================] - 16s 331ms/step - loss: 0.8326 - accuracy: 0.6788 - val_loss: 0.9015 - val_accuracy: 0.6479\n",
            "Epoch 9/80\n",
            "48/48 [==============================] - 16s 331ms/step - loss: 0.8107 - accuracy: 0.6883 - val_loss: 1.4382 - val_accuracy: 0.5426\n",
            "Epoch 10/80\n",
            "48/48 [==============================] - 16s 328ms/step - loss: 0.7594 - accuracy: 0.7119 - val_loss: 1.1655 - val_accuracy: 0.6171\n",
            "Epoch 11/80\n",
            "48/48 [==============================] - 16s 332ms/step - loss: 0.7292 - accuracy: 0.7213 - val_loss: 1.1199 - val_accuracy: 0.5535\n",
            "Epoch 12/80\n",
            "48/48 [==============================] - 16s 327ms/step - loss: 0.7365 - accuracy: 0.7092 - val_loss: 0.8939 - val_accuracy: 0.6860\n",
            "Epoch 13/80\n",
            "48/48 [==============================] - 15s 312ms/step - loss: 0.6819 - accuracy: 0.7325 - val_loss: 0.8847 - val_accuracy: 0.6733\n",
            "Epoch 14/80\n",
            "48/48 [==============================] - 16s 331ms/step - loss: 0.6865 - accuracy: 0.7341 - val_loss: 0.8866 - val_accuracy: 0.6860\n",
            "Epoch 15/80\n",
            "48/48 [==============================] - 16s 329ms/step - loss: 0.6827 - accuracy: 0.7348 - val_loss: 0.8846 - val_accuracy: 0.6915\n",
            "Epoch 16/80\n",
            "48/48 [==============================] - 16s 335ms/step - loss: 0.6357 - accuracy: 0.7482 - val_loss: 0.8729 - val_accuracy: 0.7078\n",
            "Epoch 17/80\n",
            "48/48 [==============================] - 16s 327ms/step - loss: 0.6249 - accuracy: 0.7570 - val_loss: 1.2408 - val_accuracy: 0.5281\n",
            "Epoch 18/80\n",
            "48/48 [==============================] - 15s 304ms/step - loss: 0.6311 - accuracy: 0.7587 - val_loss: 0.7265 - val_accuracy: 0.7495\n",
            "Epoch 19/80\n",
            "48/48 [==============================] - 15s 304ms/step - loss: 0.5991 - accuracy: 0.7718 - val_loss: 0.8947 - val_accuracy: 0.6842\n",
            "Epoch 20/80\n",
            "48/48 [==============================] - 16s 329ms/step - loss: 0.5821 - accuracy: 0.7770 - val_loss: 0.7596 - val_accuracy: 0.7423\n",
            "Epoch 21/80\n",
            "48/48 [==============================] - 16s 328ms/step - loss: 0.5720 - accuracy: 0.7842 - val_loss: 0.9542 - val_accuracy: 0.6479\n",
            "Epoch 22/80\n",
            "48/48 [==============================] - 16s 328ms/step - loss: 0.5535 - accuracy: 0.7806 - val_loss: 0.7626 - val_accuracy: 0.7332\n",
            "Epoch 23/80\n",
            "48/48 [==============================] - 16s 330ms/step - loss: 0.5329 - accuracy: 0.7944 - val_loss: 1.2872 - val_accuracy: 0.6479\n",
            "Epoch 24/80\n",
            "48/48 [==============================] - 16s 326ms/step - loss: 0.5708 - accuracy: 0.7816 - val_loss: 0.7830 - val_accuracy: 0.7405\n",
            "Epoch 25/80\n",
            "48/48 [==============================] - 16s 326ms/step - loss: 0.5193 - accuracy: 0.8022 - val_loss: 0.7399 - val_accuracy: 0.7532\n",
            "Epoch 26/80\n",
            "48/48 [==============================] - 16s 324ms/step - loss: 0.5178 - accuracy: 0.7996 - val_loss: 0.7723 - val_accuracy: 0.7332\n",
            "Epoch 27/80\n",
            "48/48 [==============================] - 16s 327ms/step - loss: 0.4961 - accuracy: 0.8111 - val_loss: 0.7229 - val_accuracy: 0.7423\n",
            "Epoch 28/80\n",
            "48/48 [==============================] - 16s 329ms/step - loss: 0.5300 - accuracy: 0.7973 - val_loss: 0.8032 - val_accuracy: 0.7332\n",
            "Epoch 29/80\n",
            "48/48 [==============================] - 16s 332ms/step - loss: 0.4738 - accuracy: 0.8114 - val_loss: 0.8007 - val_accuracy: 0.7187\n",
            "Epoch 30/80\n",
            "48/48 [==============================] - 16s 327ms/step - loss: 0.5079 - accuracy: 0.8055 - val_loss: 0.7915 - val_accuracy: 0.7405\n",
            "Epoch 31/80\n",
            "48/48 [==============================] - 16s 327ms/step - loss: 0.4600 - accuracy: 0.8225 - val_loss: 0.6663 - val_accuracy: 0.7695\n",
            "Epoch 32/80\n",
            "48/48 [==============================] - 16s 329ms/step - loss: 0.4988 - accuracy: 0.8160 - val_loss: 0.8468 - val_accuracy: 0.7096\n",
            "Epoch 33/80\n",
            "48/48 [==============================] - 16s 325ms/step - loss: 0.4341 - accuracy: 0.8382 - val_loss: 0.5972 - val_accuracy: 0.8022\n",
            "Epoch 34/80\n",
            "48/48 [==============================] - 16s 327ms/step - loss: 0.4398 - accuracy: 0.8343 - val_loss: 0.7127 - val_accuracy: 0.7550\n",
            "Epoch 35/80\n",
            "48/48 [==============================] - 16s 327ms/step - loss: 0.4200 - accuracy: 0.8458 - val_loss: 0.9388 - val_accuracy: 0.7187\n",
            "Epoch 36/80\n",
            "48/48 [==============================] - 16s 332ms/step - loss: 0.4267 - accuracy: 0.8307 - val_loss: 0.9356 - val_accuracy: 0.7132\n",
            "Epoch 37/80\n",
            "48/48 [==============================] - 16s 331ms/step - loss: 0.4055 - accuracy: 0.8454 - val_loss: 0.7102 - val_accuracy: 0.7840\n",
            "Epoch 38/80\n",
            "48/48 [==============================] - 16s 328ms/step - loss: 0.3919 - accuracy: 0.8448 - val_loss: 1.0108 - val_accuracy: 0.6279\n",
            "Epoch 39/80\n",
            "48/48 [==============================] - 16s 329ms/step - loss: 0.4136 - accuracy: 0.8392 - val_loss: 0.7012 - val_accuracy: 0.7768\n",
            "Epoch 40/80\n",
            "48/48 [==============================] - 16s 324ms/step - loss: 0.3598 - accuracy: 0.8618 - val_loss: 0.6589 - val_accuracy: 0.7659\n",
            "Epoch 41/80\n",
            "48/48 [==============================] - 16s 330ms/step - loss: 0.3727 - accuracy: 0.8563 - val_loss: 0.6117 - val_accuracy: 0.7877\n",
            "Epoch 42/80\n",
            "48/48 [==============================] - 15s 307ms/step - loss: 0.3647 - accuracy: 0.8654 - val_loss: 0.7945 - val_accuracy: 0.7495\n",
            "Epoch 43/80\n",
            "48/48 [==============================] - 16s 326ms/step - loss: 0.3409 - accuracy: 0.8694 - val_loss: 0.6173 - val_accuracy: 0.8022\n",
            "Epoch 44/80\n",
            "48/48 [==============================] - 16s 329ms/step - loss: 0.3528 - accuracy: 0.8602 - val_loss: 0.6689 - val_accuracy: 0.7967\n",
            "Epoch 45/80\n",
            "48/48 [==============================] - 16s 330ms/step - loss: 0.3557 - accuracy: 0.8621 - val_loss: 0.7145 - val_accuracy: 0.7532\n",
            "Epoch 46/80\n",
            "48/48 [==============================] - 15s 306ms/step - loss: 0.3347 - accuracy: 0.8726 - val_loss: 0.8959 - val_accuracy: 0.7495\n",
            "Epoch 47/80\n",
            "48/48 [==============================] - 16s 326ms/step - loss: 0.3633 - accuracy: 0.8631 - val_loss: 1.0649 - val_accuracy: 0.7495\n",
            "Epoch 48/80\n",
            "48/48 [==============================] - 15s 318ms/step - loss: 0.3322 - accuracy: 0.8788 - val_loss: 1.0037 - val_accuracy: 0.6842\n",
            "Epoch 49/80\n",
            "48/48 [==============================] - 15s 300ms/step - loss: 0.3508 - accuracy: 0.8677 - val_loss: 0.7292 - val_accuracy: 0.7532\n",
            "Epoch 50/80\n",
            "48/48 [==============================] - 16s 330ms/step - loss: 0.3087 - accuracy: 0.8834 - val_loss: 0.8002 - val_accuracy: 0.7568\n",
            "Epoch 51/80\n",
            "48/48 [==============================] - 16s 330ms/step - loss: 0.3022 - accuracy: 0.8870 - val_loss: 0.5829 - val_accuracy: 0.8094\n",
            "Epoch 52/80\n",
            "48/48 [==============================] - 16s 330ms/step - loss: 0.2567 - accuracy: 0.9028 - val_loss: 0.6459 - val_accuracy: 0.7858\n",
            "Epoch 53/80\n",
            "48/48 [==============================] - 16s 329ms/step - loss: 0.2592 - accuracy: 0.9011 - val_loss: 0.6454 - val_accuracy: 0.8149\n",
            "Epoch 54/80\n",
            "48/48 [==============================] - 16s 331ms/step - loss: 0.2946 - accuracy: 0.8910 - val_loss: 0.8955 - val_accuracy: 0.7604\n",
            "Epoch 55/80\n",
            "48/48 [==============================] - 16s 328ms/step - loss: 0.3082 - accuracy: 0.8828 - val_loss: 0.6649 - val_accuracy: 0.7786\n",
            "Epoch 56/80\n",
            "48/48 [==============================] - 16s 327ms/step - loss: 0.2770 - accuracy: 0.8975 - val_loss: 0.6783 - val_accuracy: 0.7895\n",
            "Epoch 57/80\n",
            "48/48 [==============================] - 15s 323ms/step - loss: 0.2433 - accuracy: 0.9096 - val_loss: 0.6726 - val_accuracy: 0.7659\n",
            "Epoch 58/80\n",
            "48/48 [==============================] - 15s 302ms/step - loss: 0.2385 - accuracy: 0.9158 - val_loss: 0.7683 - val_accuracy: 0.7368\n",
            "Epoch 59/80\n",
            "48/48 [==============================] - 15s 298ms/step - loss: 0.2417 - accuracy: 0.9090 - val_loss: 0.7135 - val_accuracy: 0.7822\n",
            "Epoch 60/80\n",
            "48/48 [==============================] - 15s 303ms/step - loss: 0.2497 - accuracy: 0.9077 - val_loss: 0.6957 - val_accuracy: 0.7750\n",
            "Epoch 61/80\n",
            "48/48 [==============================] - 16s 330ms/step - loss: 0.2433 - accuracy: 0.9070 - val_loss: 0.8484 - val_accuracy: 0.7586\n",
            "Epoch 62/80\n",
            "48/48 [==============================] - 15s 322ms/step - loss: 0.2117 - accuracy: 0.9208 - val_loss: 0.6576 - val_accuracy: 0.8040\n",
            "Epoch 63/80\n",
            "48/48 [==============================] - 15s 302ms/step - loss: 0.2150 - accuracy: 0.9194 - val_loss: 0.7784 - val_accuracy: 0.7713\n",
            "Epoch 64/80\n",
            "48/48 [==============================] - 16s 329ms/step - loss: 0.2215 - accuracy: 0.9175 - val_loss: 0.6355 - val_accuracy: 0.7840\n",
            "Epoch 65/80\n",
            "48/48 [==============================] - 16s 330ms/step - loss: 0.2207 - accuracy: 0.9188 - val_loss: 0.6117 - val_accuracy: 0.7985\n",
            "Epoch 66/80\n",
            "48/48 [==============================] - 16s 329ms/step - loss: 0.2124 - accuracy: 0.9240 - val_loss: 0.6645 - val_accuracy: 0.8149\n",
            "Epoch 67/80\n",
            "48/48 [==============================] - 16s 332ms/step - loss: 0.2183 - accuracy: 0.9165 - val_loss: 0.6959 - val_accuracy: 0.8040\n",
            "Epoch 68/80\n",
            "48/48 [==============================] - 16s 326ms/step - loss: 0.1886 - accuracy: 0.9208 - val_loss: 0.6830 - val_accuracy: 0.8004\n",
            "Epoch 69/80\n",
            "48/48 [==============================] - 16s 330ms/step - loss: 0.2338 - accuracy: 0.9155 - val_loss: 0.8157 - val_accuracy: 0.7477\n",
            "Epoch 70/80\n",
            "48/48 [==============================] - 16s 332ms/step - loss: 0.2137 - accuracy: 0.9185 - val_loss: 0.8023 - val_accuracy: 0.7459\n",
            "Epoch 71/80\n",
            "48/48 [==============================] - 16s 328ms/step - loss: 0.1968 - accuracy: 0.9276 - val_loss: 0.9460 - val_accuracy: 0.7405\n",
            "Epoch 72/80\n",
            "48/48 [==============================] - 15s 310ms/step - loss: 0.1982 - accuracy: 0.9299 - val_loss: 0.6395 - val_accuracy: 0.8203\n",
            "Epoch 73/80\n",
            "48/48 [==============================] - 16s 327ms/step - loss: 0.2008 - accuracy: 0.9231 - val_loss: 0.6842 - val_accuracy: 0.7949\n",
            "Epoch 74/80\n",
            "48/48 [==============================] - 16s 326ms/step - loss: 0.2058 - accuracy: 0.9276 - val_loss: 0.8890 - val_accuracy: 0.7695\n",
            "Epoch 75/80\n",
            "48/48 [==============================] - 16s 328ms/step - loss: 0.1627 - accuracy: 0.9345 - val_loss: 0.6444 - val_accuracy: 0.7877\n",
            "Epoch 76/80\n",
            "48/48 [==============================] - 16s 328ms/step - loss: 0.1621 - accuracy: 0.9417 - val_loss: 0.7222 - val_accuracy: 0.7895\n",
            "Epoch 77/80\n",
            "48/48 [==============================] - 18s 374ms/step - loss: 0.1553 - accuracy: 0.9450 - val_loss: 0.7720 - val_accuracy: 0.7695\n",
            "Epoch 78/80\n",
            "48/48 [==============================] - 25s 522ms/step - loss: 0.1655 - accuracy: 0.9345 - val_loss: 0.7793 - val_accuracy: 0.7750\n",
            "Epoch 79/80\n",
            "48/48 [==============================] - 21s 435ms/step - loss: 0.1653 - accuracy: 0.9398 - val_loss: 0.8832 - val_accuracy: 0.8040\n",
            "Epoch 80/80\n",
            "48/48 [==============================] - 17s 350ms/step - loss: 0.1597 - accuracy: 0.9417 - val_loss: 0.8491 - val_accuracy: 0.7840\n"
          ]
        }
      ]
    },
    {
      "cell_type": "code",
      "source": [
        "x_train.shape # look traing shape"
      ],
      "metadata": {
        "colab": {
          "base_uri": "https://localhost:8080/"
        },
        "id": "0iYNNEYKYdSY",
        "outputId": "ebcb53bc-1125-4404-ff3a-818483b31977"
      },
      "execution_count": null,
      "outputs": [
        {
          "output_type": "execute_result",
          "data": {
            "text/plain": [
              "(3118, 128, 128, 3)"
            ]
          },
          "metadata": {},
          "execution_count": 37
        }
      ]
    },
    {
      "cell_type": "code",
      "source": [
        "from sklearn.metrics import confusion_matrix\n",
        "Y_pred = model.predict(x_val)\n",
        "Y_pred_classes = np.argmax(Y_pred,axis = 1)\n",
        "Y_true = np.argmax(y_val,axis = 1)\n",
        "confusion_mtx = confusion_matrix(Y_true,Y_pred_classes)\n",
        "f,ax = plt.subplots(figsize = (8,8))\n",
        "sns.heatmap(confusion_mtx,annot=True,linewidths = 0.01,cmap=\"Reds\",\n",
        "            linecolor = \"gray\",fmt = \".2f\",ax=ax\n",
        "            )\n",
        "plt.xlabel(\"predicted label\")\n",
        "plt.ylabel(\"True Label\")\n",
        "plt.title(\"confusion matrix\")\n",
        "plt.show()"
      ],
      "metadata": {
        "colab": {
          "base_uri": "https://localhost:8080/",
          "height": 735
        },
        "id": "UFSgyo3dY0yr",
        "outputId": "338eb6bb-9053-42a0-fd0f-cf9b6ae1240c"
      },
      "execution_count": null,
      "outputs": [
        {
          "output_type": "stream",
          "name": "stdout",
          "text": [
            "18/18 [==============================] - 0s 13ms/step\n"
          ]
        },
        {
          "output_type": "display_data",
          "data": {
            "text/plain": [
              "<Figure size 800x800 with 2 Axes>"
            ],
            "image/png": "[encoded data removed]"
          },
          "metadata": {}
        }
      ]
    },
    {
      "cell_type": "code",
      "source": [
        "model.save('//content/drive/MyDrive/Flower/flowers.h5')"
      ],
      "metadata": {
        "colab": {
          "base_uri": "https://localhost:8080/"
        },
        "id": "XiCHPgZuYh1r",
        "outputId": "ffb66221-5e01-42d3-d337-acfb652a61b3"
      },
      "execution_count": null,
      "outputs": [
        {
          "output_type": "stream",
          "name": "stderr",
          "text": [
            "/usr/local/lib/python3.10/dist-packages/keras/src/engine/training.py:3079: UserWarning:\n",
            "\n",
            "You are saving your model as an HDF5 file via `model.save()`. This file format is considered legacy. We recommend using instead the native Keras format, e.g. `model.save('my_model.keras')`.\n",
            "\n"
          ]
        }
      ]
    }
  ]
}